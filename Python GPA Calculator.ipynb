{
 "cells": [
  {
   "cell_type": "code",
   "execution_count": 12,
   "metadata": {},
   "outputs": [
    {
     "name": "stdout",
     "output_type": "stream",
     "text": [
      "3.25\n",
      "2.7216666666666662\n"
     ]
    }
   ],
   "source": [
    "def gpa_calculator(grades):\n",
    "    points = 0\n",
    "    i = 0\n",
    "    grade_c = {\"A\":4,\"A-\":3.67,\"B+\":3.33,\"B\":3.0,\"B-\":2.67, \"C+\":2.33,\"C\":2.0,\"C-\":1.67,\"D+\":1.33,\"D\":1.0,\"F\":0}\n",
    "    if grades != []:\n",
    "        for grade in grades:\n",
    "            points += grade_c[grade]\n",
    "        gpa = points / len(grades)\n",
    "        return gpa\n",
    "    else:\n",
    "        return None\n",
    " \n",
    " \n",
    "grades = [ 'A', 'B', 'A', 'C']\n",
    "print(gpa_calculator(grades))\n",
    " \n",
    "grades = ['A', 'B', 'C', 'F', 'A', 'B+']\n",
    "print(gpa_calculator(grades))"
   ]
  },
  {
   "cell_type": "code",
   "execution_count": null,
   "metadata": {},
   "outputs": [],
   "source": []
  },
  {
   "cell_type": "code",
   "execution_count": null,
   "metadata": {},
   "outputs": [],
   "source": []
  },
  {
   "cell_type": "code",
   "execution_count": null,
   "metadata": {},
   "outputs": [],
   "source": []
  }
 ],
 "metadata": {
  "kernelspec": {
   "display_name": "Python 3",
   "language": "python",
   "name": "python3"
  },
  "language_info": {
   "codemirror_mode": {
    "name": "ipython",
    "version": 3
   },
   "file_extension": ".py",
   "mimetype": "text/x-python",
   "name": "python",
   "nbconvert_exporter": "python",
   "pygments_lexer": "ipython3",
   "version": "3.7.3"
  }
 },
 "nbformat": 4,
 "nbformat_minor": 2
}
